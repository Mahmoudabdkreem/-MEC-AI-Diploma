{
  "cells": [
    {
      "cell_type": "markdown",
      "id": "2e6129a7",
      "metadata": {
        "id": "2e6129a7"
      },
      "source": [
        "## WAP to enter a number from user and print its absolute value.*"
      ]
    },
    {
      "cell_type": "code",
      "execution_count": 42,
      "id": "1a2b81cb",
      "metadata": {
        "id": "1a2b81cb",
        "colab": {
          "base_uri": "https://localhost:8080/"
        },
        "outputId": "9fc04dfd-0396-4690-9e10-4af7446a811e"
      },
      "outputs": [
        {
          "output_type": "stream",
          "name": "stdout",
          "text": [
            "enter a number -10\n",
            "the absolute value is  10\n"
          ]
        }
      ],
      "source": [
        "number=int(input(\"enter a number \"))\n",
        "if number>0:\n",
        "  print(\"the absolute value is \", number)\n",
        "else:\n",
        "  number=number*-1\n",
        "  print(\"the absolute value is \",number)"
      ]
    },
    {
      "cell_type": "markdown",
      "id": "6e4c5e8e",
      "metadata": {
        "id": "6e4c5e8e"
      },
      "source": [
        "##  WAP to enter a year from user and check if it is leap year of not."
      ]
    },
    {
      "cell_type": "code",
      "execution_count": 48,
      "id": "98f7d9fc",
      "metadata": {
        "id": "98f7d9fc",
        "colab": {
          "base_uri": "https://localhost:8080/"
        },
        "outputId": "249a84fb-b4b2-428f-acf2-609f598dfff3"
      },
      "outputs": [
        {
          "output_type": "stream",
          "name": "stdout",
          "text": [
            "enter a year 1900\n",
            "the year  1900 is not leap\n"
          ]
        }
      ],
      "source": [
        "year=int(input(\"enter a year \"))\n",
        "if year%4==0:\n",
        " if year%100==0:\n",
        "  if year%400==0:\n",
        "    print(\"the year \", year ,\"is leap\")\n",
        "  else:\n",
        "    print(\"the year \", year ,\"is not leap\")\n",
        " else:\n",
        "   print(\"the year \", year ,\"is leap\")\n",
        "else:\n",
        "   print(\"the year \", year ,\"is not leap\")\n"
      ]
    },
    {
      "cell_type": "markdown",
      "id": "30b689c8",
      "metadata": {
        "id": "30b689c8"
      },
      "source": [
        "## WAP to enter the age of 3 person and print oldest and yougest among them."
      ]
    },
    {
      "cell_type": "code",
      "execution_count": 39,
      "id": "c166f026",
      "metadata": {
        "id": "c166f026",
        "colab": {
          "base_uri": "https://localhost:8080/"
        },
        "outputId": "7c8c61b2-5541-4f50-838f-bc4f31bdc092"
      },
      "outputs": [
        {
          "output_type": "stream",
          "name": "stdout",
          "text": [
            "enter the age to person 1\t30\n",
            "enter the age to person 2\t20\n",
            "enter the age to person 3\t10\n",
            "the oldest is person 1  30 year\n",
            "the yougest is person 3 10 year\n"
          ]
        }
      ],
      "source": [
        "p1=int(input(\"enter the age to person 1\\t\"))\n",
        "p2=int(input(\"enter the age to person 2\\t\"))\n",
        "p3=int(input(\"enter the age to person 3\\t\"))\n",
        "if p1>p2:\n",
        "  if p1>p3:\n",
        "    print(\"the oldest is person 1 \", p1 ,\"year\")\n",
        "    if p2>p3:\n",
        "      print(\"the yougest is person 3\", p3, \"year\")\n",
        "    else:\n",
        "      print(\"the yougest is person 2\", p2, \"year\")\n",
        "  else:\n",
        "    print(\"the oldest is person 3\",p3, \"yesr\")\n",
        "    print(\"the yougest is person 2\",p2, \"year\")\n",
        "elif p2>p3:\n",
        "  print(\"the oldest is person 2\", p2, \"year\")\n",
        "  if p1>p3:\n",
        "   print(\"the yougest is person 3\", p3, \"year\")\n",
        "  else:\n",
        "    print(\"the yougest is person 1\", p1, \"year\")\n",
        "else:\n",
        "  print(\"the oldest is person 3\", p3, \"year\")\n",
        "  print(\"the yougest is person 1\", p1, \"year\")\n",
        "\n",
        "\n",
        "\n",
        "\n"
      ]
    },
    {
      "cell_type": "markdown",
      "id": "7e526aaa",
      "metadata": {
        "id": "7e526aaa"
      },
      "source": [
        "## Write a program that asks the user to enter their name and age. The program should check if the user's age is greater than or equal to 18. If it is, the program should print a message saying they are eligible to vote. Otherwise, the program should print a message saying they are not eligible to vote due to being underage.\n"
      ]
    },
    {
      "cell_type": "code",
      "execution_count": 51,
      "id": "96c50bdf",
      "metadata": {
        "id": "96c50bdf",
        "colab": {
          "base_uri": "https://localhost:8080/"
        },
        "outputId": "1e62a318-a5eb-4bab-8c77-ec8850f9c5f1"
      },
      "outputs": [
        {
          "output_type": "stream",
          "name": "stdout",
          "text": [
            "enter your name 21\n",
            "enter your age 21\n",
            "21 you are eligible to vote\n"
          ]
        }
      ],
      "source": [
        "name=input(\"enter your name \")\n",
        "age=int(input(\"enter your age \"))\n",
        "if age>=18:\n",
        "  print( name ,\"you are eligible to vote\")\n",
        "else:\n",
        "  print( name ,\"you are not eligible to vote due to being underage\")"
      ]
    }
  ],
  "metadata": {
    "kernelspec": {
      "display_name": "Python 3 (ipykernel)",
      "language": "python",
      "name": "python3"
    },
    "language_info": {
      "codemirror_mode": {
        "name": "ipython",
        "version": 3
      },
      "file_extension": ".py",
      "mimetype": "text/x-python",
      "name": "python",
      "nbconvert_exporter": "python",
      "pygments_lexer": "ipython3",
      "version": "3.9.12"
    },
    "colab": {
      "provenance": []
    }
  },
  "nbformat": 4,
  "nbformat_minor": 5
}